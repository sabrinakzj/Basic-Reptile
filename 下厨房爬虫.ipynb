{
 "cells": [
  {
   "cell_type": "code",
   "execution_count": 2,
   "id": "bee5d9f3",
   "metadata": {},
   "outputs": [
    {
     "name": "stdout",
     "output_type": "stream",
     "text": [
      "Requirement already satisfied: requests in /Users/hezixin/opt/anaconda3/lib/python3.9/site-packages (2.31.0)\n",
      "Requirement already satisfied: beautifulsoup4 in /Users/hezixin/opt/anaconda3/lib/python3.9/site-packages (4.11.1)\n",
      "Requirement already satisfied: urllib3<3,>=1.21.1 in /Users/hezixin/opt/anaconda3/lib/python3.9/site-packages (from requests) (1.26.18)\n",
      "Requirement already satisfied: idna<4,>=2.5 in /Users/hezixin/opt/anaconda3/lib/python3.9/site-packages (from requests) (3.3)\n",
      "Requirement already satisfied: certifi>=2017.4.17 in /Users/hezixin/opt/anaconda3/lib/python3.9/site-packages (from requests) (2022.9.24)\n",
      "Requirement already satisfied: charset-normalizer<4,>=2 in /Users/hezixin/opt/anaconda3/lib/python3.9/site-packages (from requests) (2.0.4)\n",
      "Requirement already satisfied: soupsieve>1.2 in /Users/hezixin/opt/anaconda3/lib/python3.9/site-packages (from beautifulsoup4) (2.3.1)\n",
      "Note: you may need to restart the kernel to use updated packages.\n"
     ]
    }
   ],
   "source": [
    "pip install requests beautifulsoup4"
   ]
  },
  {
   "cell_type": "code",
   "execution_count": 11,
   "id": "e76c1870",
   "metadata": {},
   "outputs": [
    {
     "name": "stdout",
     "output_type": "stream",
     "text": [
      "数据已保存到 /Users/hezixin/Desktop/recipes.xlsx\n"
     ]
    }
   ],
   "source": [
    "import requests\n",
    "from bs4 import BeautifulSoup\n",
    "import pandas as pd\n",
    "import os\n",
    "\n",
    "# 爬内容\n",
    "def crawl(url):\n",
    "    try:\n",
    "        headers = {\n",
    "            'User-Agent': 'Mozilla/5.0 (Macintosh; Intel Mac OS X 10_15_7) AppleWebKit/605.1.15 (KHTML, like Gecko) Version/15.2 Safari/605.1.15'\n",
    "        }\n",
    "        response = requests.get(url, headers=headers)\n",
    "        response.raise_for_status()  # 确保请求成功\n",
    "        return response.text\n",
    "    except requests.RequestException as e:\n",
    "        print(f\"请求失败: {e}\")\n",
    "        return None\n",
    "\n",
    "# 解析内容\n",
    "def parse_html(html):\n",
    "    bs = BeautifulSoup(html, 'html.parser')\n",
    "    recipes = []\n",
    "    bs.find_all('div', class_='info pure-u')\n",
    "    # 查找所有包含菜谱信息的元素，根据具体的HTML结构调整查找方式\n",
    "    for div in bs.find_all('div', class_='info pure-u'):\n",
    "        a_tag = div.find('a')\n",
    "        if a_tag:\n",
    "            name = a_tag.text.strip()\n",
    "            link = 'https://www.xiachufang.com' + a_tag['href']\n",
    "            # 获取配料信息\n",
    "            ingredient_div = div.find('p', class_='ing ellipsis')\n",
    "            ingredients = ingredient_div.text.strip() if ingredient_div else \"No ingredients listed\"\n",
    "            recipes.append({'name': name, 'link': link, 'ingredients': ingredients})\n",
    "    return recipes\n",
    "\n",
    "# 保存到Excel文件\n",
    "def save_to_excel(recipes, filename='recipes.xlsx'):\n",
    "    desktop_path = os.path.join(os.path.expanduser('~'), 'Desktop')\n",
    "    file_path = os.path.join(desktop_path, filename)\n",
    "    df = pd.DataFrame(recipes)\n",
    "    df.to_excel(file_path, index=False)\n",
    "    print(f\"数据已保存到 {file_path}\")\n",
    "\n",
    "\n",
    "if __name__ == \"__main__\":\n",
    "    url = 'https://www.xiachufang.com/explore/'\n",
    "    html_content = crawl(url)\n",
    "    if html_content:\n",
    "        recipes = parse_html(html_content)\n",
    "        save_to_excel(recipes)"
   ]
  },
  {
   "cell_type": "code",
   "execution_count": null,
   "id": "7850233a",
   "metadata": {},
   "outputs": [],
   "source": []
  },
  {
   "cell_type": "code",
   "execution_count": null,
   "id": "fed88851",
   "metadata": {},
   "outputs": [],
   "source": []
  }
 ],
 "metadata": {
  "kernelspec": {
   "display_name": "Python 3 (ipykernel)",
   "language": "python",
   "name": "python3"
  },
  "language_info": {
   "codemirror_mode": {
    "name": "ipython",
    "version": 3
   },
   "file_extension": ".py",
   "mimetype": "text/x-python",
   "name": "python",
   "nbconvert_exporter": "python",
   "pygments_lexer": "ipython3",
   "version": "3.9.13"
  }
 },
 "nbformat": 4,
 "nbformat_minor": 5
}
